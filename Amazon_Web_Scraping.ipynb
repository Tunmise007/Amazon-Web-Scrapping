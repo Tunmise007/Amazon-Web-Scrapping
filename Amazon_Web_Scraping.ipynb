{
 "cells": [
  {
   "cell_type": "markdown",
   "id": "9a84a446-36fa-4ae1-996c-69a22f2bf726",
   "metadata": {},
   "source": [
    "**Import Libraries**"
   ]
  },
  {
   "cell_type": "code",
   "execution_count": null,
   "id": "3f692a78-8423-4586-8927-eb7669dfc4a1",
   "metadata": {},
   "outputs": [],
   "source": [
    "# Installing BeautifulSoup\n",
    "\n",
    "! pip install BeautifulSoup"
   ]
  },
  {
   "cell_type": "code",
   "execution_count": 1,
   "id": "440eed0f-b15d-49d7-a67f-0c480271a52e",
   "metadata": {},
   "outputs": [],
   "source": [
    "from bs4 import BeautifulSoup\n",
    "import requests\n",
    "import time\n",
    "import datetime\n",
    "import smtplib"
   ]
  },
  {
   "cell_type": "markdown",
   "id": "d652e640-2855-4f0c-b6cb-08f6e20d754d",
   "metadata": {},
   "source": [
    "**Connect to website**"
   ]
  },
  {
   "cell_type": "code",
   "execution_count": null,
   "id": "c2cb7c97-cbe6-4069-9d72-0a23ac34a6cc",
   "metadata": {},
   "outputs": [],
   "source": [
    "URL = 'https://www.amazon.co.uk/Data-Analyst-Funny-Gift-T-Shirt/dp/B09DTMF1VX/ref=sr_1_21?crid=32UNVET8EDC3&keywords=data+analyst+tshirt+funny&qid=1672659544&sprefix=data+analyst+%2Caps%2C119&sr=8-21'\n",
    "\n",
    "headers = {\"User-Agent\": \"Mozilla/5.0 (Windows NT 10.0; Win64; x64) AppleWebKit/537.36 (KHTML, like Gecko) Chrome/108.0.0.0 Safari/537.36\"}\n",
    "\n",
    "page = requests.get(URL, headers=headers)\n",
    "\n",
    "soup1 = BeautifulSoup(page.content, \"html.parser\")\n",
    "\n",
    "soup2 =  BeautifulSoup(soup1.prettify(), \"html.parser\")\n",
    "\n",
    "title = soup2.find(id='productTitle').get_text()\n",
    "\n",
    "price = soup2.find(id='corePriceDisplay_desktop_feature_div').get_text()\n"
   ]
  },
  {
   "cell_type": "code",
   "execution_count": null,
   "id": "74e0a700-4b40-4e58-b827-0851f53d9838",
   "metadata": {},
   "outputs": [],
   "source": [
    "# Data Cleaning\n",
    "\n",
    "price = price.strip()[1:10]\n",
    "price = price.strip()\n",
    "title = title.strip()"
   ]
  },
  {
   "cell_type": "code",
   "execution_count": null,
   "id": "96c0942b-9001-46fb-bc07-fa90524d75f7",
   "metadata": {},
   "outputs": [],
   "source": [
    "print(title)\n",
    "print(price)"
   ]
  },
  {
   "cell_type": "code",
   "execution_count": null,
   "id": "7b9bfdc1-457a-48cc-950f-8199911efd87",
   "metadata": {},
   "outputs": [],
   "source": [
    "import datetime \n",
    "\n",
    "today =  datetime.date.today()\n",
    "\n",
    "print(today)"
   ]
  },
  {
   "cell_type": "code",
   "execution_count": null,
   "id": "0a99402c-504e-4d85-a618-5d2d043bf19f",
   "metadata": {},
   "outputs": [],
   "source": [
    "import csv\n",
    "\n",
    "header = ['Title', 'Price', 'Date Retrived']\n",
    "data = [title, price, today]\n",
    "\n",
    "# Creating CSV File\n",
    "with open('AmazonWebScrapingDataset.csv', 'w', newline='') as file:\n",
    "    # Inserting the header and data\n",
    "    #writer = csv.writer(file)\n",
    "    #writer.writerow(header)\n",
    "    #writer.writerow(data)"
   ]
  },
  {
   "cell_type": "code",
   "execution_count": null,
   "id": "6df14db3-f76b-4326-829e-f4352891dc67",
   "metadata": {},
   "outputs": [],
   "source": [
    "import pandas as pd \n",
    "\n",
    "df = pd.read_csv('AmazonWebScrapingDataset.csv')\n",
    "\n",
    "df"
   ]
  },
  {
   "cell_type": "code",
   "execution_count": 2,
   "id": "2935d947-bddd-4204-922d-e34bfe31bd55",
   "metadata": {},
   "outputs": [
    {
     "ename": "NameError",
     "evalue": "name 'csv' is not defined",
     "output_type": "error",
     "traceback": [
      "\u001b[1;31m---------------------------------------------------------------------------\u001b[0m",
      "\u001b[1;31mNameError\u001b[0m                                 Traceback (most recent call last)",
      "Input \u001b[1;32mIn [2]\u001b[0m, in \u001b[0;36m<cell line: 3>\u001b[1;34m()\u001b[0m\n\u001b[0;32m      1\u001b[0m \u001b[38;5;66;03m# Appending data to the csv. Updating the file automatically\u001b[39;00m\n\u001b[0;32m      3\u001b[0m \u001b[38;5;28;01mwith\u001b[39;00m \u001b[38;5;28mopen\u001b[39m(\u001b[38;5;124m'\u001b[39m\u001b[38;5;124mAmazonWebScrapingDataset.csv\u001b[39m\u001b[38;5;124m'\u001b[39m, \u001b[38;5;124m'\u001b[39m\u001b[38;5;124ma+\u001b[39m\u001b[38;5;124m'\u001b[39m, newline\u001b[38;5;241m=\u001b[39m\u001b[38;5;124m'\u001b[39m\u001b[38;5;124m'\u001b[39m) \u001b[38;5;28;01mas\u001b[39;00m file:\n\u001b[1;32m----> 4\u001b[0m     writer \u001b[38;5;241m=\u001b[39m \u001b[43mcsv\u001b[49m\u001b[38;5;241m.\u001b[39mwriter(file)\n\u001b[0;32m      5\u001b[0m     writer\u001b[38;5;241m.\u001b[39mwriterow(data)\n",
      "\u001b[1;31mNameError\u001b[0m: name 'csv' is not defined"
     ]
    }
   ],
   "source": [
    "# Appending data to the csv. Updating the file automatically\n",
    "\n",
    "with open('AmazonWebScrapingDataset.csv', 'a+', newline='') as file:\n",
    "    writer = csv.writer(file)\n",
    "    writer.writerow(data)"
   ]
  },
  {
   "cell_type": "code",
   "execution_count": 3,
   "id": "a32d04dc-1c6d-4df5-a930-b7c63b412937",
   "metadata": {},
   "outputs": [],
   "source": [
    "def check_price():\n",
    "    URL = 'https://www.amazon.co.uk/Data-Analyst-Funny-Gift-T-Shirt/dp/B09DTMF1VX/ref=sr_1_21?crid=32UNVET8EDC3&keywords=data+analyst+tshirt+funny&qid=1672659544&sprefix=data+analyst+%2Caps%2C119&sr=8-21'\n",
    "\n",
    "    headers = {\"User-Agent\": \"Mozilla/5.0 (Windows NT 10.0; Win64; x64) AppleWebKit/537.36 (KHTML, like Gecko) Chrome/108.0.0.0 Safari/537.36\"}\n",
    "\n",
    "    page = requests.get(URL, headers=headers)\n",
    "\n",
    "    soup1 = BeautifulSoup(page.content, \"html.parser\")\n",
    "\n",
    "    soup2 =  BeautifulSoup(soup1.prettify(), \"html.parser\")\n",
    "\n",
    "    title = soup2.find(id='productTitle').get_text()\n",
    "\n",
    "    price = soup2.find(id='corePriceDisplay_desktop_feature_div').get_text()\n",
    "    \n",
    "    price = price.strip()[1:10]\n",
    "    price = price.strip()\n",
    "    title = title.strip()\n",
    "    \n",
    "    import datetime \n",
    "\n",
    "    today =  datetime.date.today()\n",
    "    \n",
    "    import csv\n",
    "\n",
    "    header = ['Title', 'Price', 'Date Retrived']\n",
    "    data = [title, price, today]\n",
    "\n",
    "\n",
    "    with open('AmazonWebScrapingDataset.csv', 'a+', newline='') as file:\n",
    "        writer = csv.writer(file)\n",
    "        writer.writerow(data)"
   ]
  },
  {
   "cell_type": "code",
   "execution_count": null,
   "id": "5c3c1e69-03a7-4c98-b0c3-d099efbeaba6",
   "metadata": {},
   "outputs": [],
   "source": [
    "# Putting a timer to check the price of the item every 5 seconds\n",
    "\n",
    "while(True):\n",
    "    check_price()\n",
    "    time.sleep(5)"
   ]
  },
  {
   "cell_type": "code",
   "execution_count": null,
   "id": "b75af1c8-9b5c-4e56-a220-fec7685bc928",
   "metadata": {},
   "outputs": [],
   "source": []
  }
 ],
 "metadata": {
  "kernelspec": {
   "display_name": "Python 3 (ipykernel)",
   "language": "python",
   "name": "python3"
  },
  "language_info": {
   "codemirror_mode": {
    "name": "ipython",
    "version": 3
   },
   "file_extension": ".py",
   "mimetype": "text/x-python",
   "name": "python",
   "nbconvert_exporter": "python",
   "pygments_lexer": "ipython3",
   "version": "3.9.12"
  }
 },
 "nbformat": 4,
 "nbformat_minor": 5
}
